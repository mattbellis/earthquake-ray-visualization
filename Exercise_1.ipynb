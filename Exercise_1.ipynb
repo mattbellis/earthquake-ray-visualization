{
 "cells": [
  {
   "cell_type": "markdown",
   "metadata": {},
   "source": [
    "# Exercise 1 - Two-layer Earth\n",
    "\n",
    "*Don't forget to hit * **Shift+Enter** * to run the code in any Cell.*"
   ]
  },
  {
   "cell_type": "markdown",
   "metadata": {},
   "source": [
    "**PLEASE ENTER YOUR NAME HERE***"
   ]
  },
  {
   "cell_type": "code",
   "execution_count": null,
   "metadata": {
    "collapsed": false
   },
   "outputs": [],
   "source": [
    "# First, import some additional libraries\n",
    "import numpy as np\n",
    "import matplotlib.pylab as plt\n",
    "%matplotlib notebook\n",
    "\n",
    "from eq_tools import *"
   ]
  },
  {
   "cell_type": "code",
   "execution_count": null,
   "metadata": {
    "collapsed": true
   },
   "outputs": [],
   "source": [
    "#np.interp"
   ]
  },
  {
   "cell_type": "markdown",
   "metadata": {},
   "source": [
    "In the cell below, we define two variables: *radii* and *velocities*. \n",
    "\n",
    "These variables are *lists* and can hold multiple numbers. \n",
    "\n",
    "The values in *radii* represent the outer radius of each layer of this hypothetical planet (think crust, mantle, core, etc.). They are given in kilometers (km). \n",
    "\n",
    "The values in *velocities* represent the velocity that P-waves travel through that layer. They are given in kilometers per second (km/s).\n",
    "\n",
    "Right now, these values are all set to 0. Edit this so that the values are reflective of your answers for the 2-layer Earth.\n",
    "\n",
    "*Note that the radius is determined by the distance from the center of the Earth.*"
   ]
  },
  {
   "cell_type": "code",
   "execution_count": null,
   "metadata": {
    "collapsed": false
   },
   "outputs": [],
   "source": [
    "# 2-layer Earth\n",
    "radii =      [0.0, 0.0] # The first number should be the outermost radius (the radius of the Earth)\n",
    "velocities = [0.0, 0.0] "
   ]
  },
  {
   "cell_type": "markdown",
   "metadata": {},
   "source": [
    "You can see a plot of radius versus velocity, for the values you've entered, if you run the following cell."
   ]
  },
  {
   "cell_type": "code",
   "execution_count": null,
   "metadata": {
    "collapsed": false,
    "scrolled": false
   },
   "outputs": [],
   "source": [
    "plot_velocities(radii,velocities)"
   ]
  },
  {
   "cell_type": "markdown",
   "metadata": {},
   "source": [
    "Run the cell below to produce an image of where the earthquake waves (drawn as rays) go. \n",
    "\n",
    "You will also see a plot of arrival time versus angular distance from the spot of the earthquake. \n",
    "\n",
    "You can edit the code below to change the number of earthquake rays drawn (*nrays*).\n",
    "\n",
    "If you want to see what the arrival times of a more realistic Earth model look like, after *nrays=50* (or whatever number you change it to) add a comma and then *real_earth=True*. "
   ]
  },
  {
   "cell_type": "code",
   "execution_count": null,
   "metadata": {
    "collapsed": false
   },
   "outputs": [],
   "source": [
    "make_earthquake(radii,velocities,nrays=50)"
   ]
  },
  {
   "cell_type": "markdown",
   "metadata": {
    "collapsed": true
   },
   "source": [
    "## Improve your model\n",
    "\n",
    "Go back to the cell where you defined *radii* and *velocities* and start changing the radii (keep the outside radius that of the Earth!) and the velocities of each layer to try to get a better fit to arrival times as measured in the real Earth. \n",
    "\n",
    "Once you edit that cell, you'll have to rerun the next few cells to get the plots to update. \n",
    "\n",
    "Keep track of your different models in the table below. "
   ]
  },
  {
   "cell_type": "markdown",
   "metadata": {},
   "source": [
    "**Model 1** \n",
    "\n",
    "| Radius of layer (km) | velocity of layer (km/s)  | Notes and comments (did it agree or disagree with the real Earth?) |\n",
    "|----------------------|---------------------------|--------------------------------------------------------------------|\n",
    "|   0.0                | 0.0                       |                  Comment?                                          |\n",
    "|   0.0                | 0.0                       |                                                                    |\n",
    "\n",
    "**Model 2** \n",
    "\n",
    "| Radius of layer (km) | velocity of layer (km/s)  | Notes and comments (did it agree or disagree with the real Earth?) |\n",
    "|----------------------|---------------------------|--------------------------------------------------------------------|\n",
    "|   0.0                | 0.0                       |                  Comment?                                          |\n",
    "|   0.0                | 0.0                       |                                                                    |\n",
    "\n",
    "**Model 3** \n",
    "\n",
    "| Radius of layer (km) | velocity of layer (km/s)  | Notes and comments (did it agree or disagree with the real Earth?) |\n",
    "|----------------------|---------------------------|--------------------------------------------------------------------|\n",
    "|   0.0                | 0.0                       |                  Comment?                                          |\n",
    "|   0.0                | 0.0                       |                                                                    |\n",
    "\n",
    "**Model 4** \n",
    "\n",
    "| Radius of layer (km) | velocity of layer (km/s)  | Notes and comments (did it agree or disagree with the real Earth?) |\n",
    "|----------------------|---------------------------|--------------------------------------------------------------------|\n",
    "|   0.0                | 0.0                       |                  Comment?                                          |\n",
    "|   0.0                | 0.0                       |                                                                    |\n",
    "\n",
    "**Model 5** \n",
    "\n",
    "| Radius of layer (km) | velocity of layer (km/s)  | Notes and comments (did it agree or disagree with the real Earth?) |\n",
    "|----------------------|---------------------------|--------------------------------------------------------------------|\n",
    "|   0.0                | 0.0                       |                  Comment?                                          |\n",
    "|   0.0                | 0.0                       |                                                                    |\n",
    "\n"
   ]
  },
  {
   "cell_type": "markdown",
   "metadata": {},
   "source": [
    "## Which model worked best?\n",
    "\n",
    "Which model worked best for you? Write your results and comments in the cell below. "
   ]
  },
  {
   "cell_type": "markdown",
   "metadata": {},
   "source": [
    "***Your answer here***"
   ]
  },
  {
   "cell_type": "markdown",
   "metadata": {},
   "source": [
    "## Next steps...\n",
    "\n",
    "If you have completed this exercise, you are ready to move on to Exercise 2. "
   ]
  }
 ],
 "metadata": {
  "kernelspec": {
   "display_name": "Python 2",
   "language": "python",
   "name": "python2"
  },
  "language_info": {
   "codemirror_mode": {
    "name": "ipython",
    "version": 2
   },
   "file_extension": ".py",
   "mimetype": "text/x-python",
   "name": "python",
   "nbconvert_exporter": "python",
   "pygments_lexer": "ipython2",
   "version": "2.7.12"
  }
 },
 "nbformat": 4,
 "nbformat_minor": 0
}
