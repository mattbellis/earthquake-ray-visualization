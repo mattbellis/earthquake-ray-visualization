{
 "cells": [
  {
   "cell_type": "code",
   "execution_count": null,
   "metadata": {
    "collapsed": false
   },
   "outputs": [],
   "source": [
    "import numpy as np\n",
    "import matplotlib.pylab as plt\n",
    "%matplotlib notebook\n",
    "\n",
    "from eq_tools import *"
   ]
  },
  {
   "cell_type": "markdown",
   "metadata": {
    "collapsed": true
   },
   "source": [
    "[Cool image](http://www.earthmagazine.org/article/march-29-1936-notes-earths-inner-core)"
   ]
  },
  {
   "cell_type": "code",
   "execution_count": null,
   "metadata": {
    "collapsed": false
   },
   "outputs": [],
   "source": [
    "# Simple planet\n",
    "radii = [1.0, 0.99, 0.8]\n",
    "#velocities = [14.0, 14.01, 12.0] # This reproduces the plot in the online exercise\n",
    "velocities = [9.0, 9.1, 12.0] \n",
    "radii = np.array(radii)*6000. # Scale this to be on the order of the Earth\n",
    "\n",
    "\n",
    "# Semi-realistic Earth\n",
    "#radii = [1.0, 0.95, 0.90, 0.85, 0.80, 0.75, 0.7, 0.5, 0.2] #, 0.2, 0.1] # Outer is always first\n",
    "#velocities = [12.5, 12.7, 12.9, 13.1, 13.3, 13.5, 13.7, 9., 11.]\n",
    "#radii = np.array(radii)*6000. # Scale this to be on the order of the Earth\n",
    "\n",
    "\n",
    "\n",
    "###### Realistic Earth\n",
    "#radii,velocities = get_earth_data()"
   ]
  },
  {
   "cell_type": "code",
   "execution_count": null,
   "metadata": {
    "collapsed": false
   },
   "outputs": [],
   "source": [
    "plt.figure()\n",
    "tempv = list(velocities)\n",
    "tempr = list(radii)\n",
    "tempv.append(tempv[-1])\n",
    "tempr.append(0.0)\n",
    "plt.plot(tempv,tempr,'o-')\n",
    "plt.ylabel(\"Radius (km)\",fontsize=18)\n",
    "plt.xlabel(\"Speed of sound (km/s)\",fontsize=18)\n",
    "plt.xlim(0,1.2*max(tempv))\n",
    "plt.ylim(0,1.2*max(tempr))"
   ]
  },
  {
   "cell_type": "code",
   "execution_count": null,
   "metadata": {
    "collapsed": false
   },
   "outputs": [],
   "source": [
    "# Earthquake origin (x/y-coordinates)\n",
    "origin = [0.0, radii[0]]\n",
    "\n",
    "angles = np.arange(-90, -10, 0.5)\n",
    "\n",
    "# Propagate the rays!\n",
    "allrays,tirs = propagate_rays(radii,velocities,origin,angles)\n",
    "#print angles"
   ]
  },
  {
   "cell_type": "code",
   "execution_count": null,
   "metadata": {
    "collapsed": false,
    "scrolled": false
   },
   "outputs": [],
   "source": [
    "plt.figure(figsize=(12,6))\n",
    "plt.subplot(1,2,1)\n",
    "\n",
    "draw_earth(radii,alpha=0.05)\n",
    "\n",
    "times = []\n",
    "ang_distances = []\n",
    "\n",
    "for tir,rays in zip(tirs,allrays):\n",
    "    if tir==False:\n",
    "    #if len(rays)>1:\n",
    "        #print \"----\"\n",
    "        time = 0\n",
    "        for rayinfo in rays:\n",
    "            ray = rayinfo[0]\n",
    "            radius = rayinfo[1]\n",
    "            plt.plot(ray[0],ray[1],'k-',linewidth=0.5,alpha=1.0)\n",
    "            #print radius,ray\n",
    "            \n",
    "            vel = velocities[radius]\n",
    "            d = distance_traversed(ray[0],ray[1])\n",
    "            time += d/vel\n",
    "            #print \"tot time, time, d, vel: \",time,d/vel,d,vel\n",
    "\n",
    "        times.append(time)\n",
    "\n",
    "        last_ray = rays[-1]\n",
    "        rayinfo = last_ray[0]\n",
    "        x = rayinfo[0][1]\n",
    "        y = rayinfo[1][1]\n",
    "        ang_distance = np.arctan2(y,x)\n",
    "        ang_distances.append(ang_distance)\n",
    "            \n",
    "plt.xlim(-6400,6400)\n",
    "plt.ylim(-6400,6400)\n",
    "\n",
    "\n",
    "plt.subplot(1,2,2)\n",
    "ang_distances = np.array(ang_distances)\n",
    "ang_distances = np.pi/2.0 - ang_distances\n",
    "\n",
    "plt.plot(np.rad2deg(ang_distances),times,'.')\n",
    "plt.xlabel(\"Angular distance (degrees)\",fontsize=18)\n",
    "plt.ylabel(\"Arrival time (seconds)\", fontsize=18)\n",
    "plt.ylim(0)\n",
    "plt.xlim(0)\n",
    "\n",
    "plt.tight_layout()"
   ]
  },
  {
   "cell_type": "code",
   "execution_count": null,
   "metadata": {
    "collapsed": true
   },
   "outputs": [],
   "source": []
  },
  {
   "cell_type": "code",
   "execution_count": null,
   "metadata": {
    "collapsed": true
   },
   "outputs": [],
   "source": []
  }
 ],
 "metadata": {
  "kernelspec": {
   "display_name": "Python 2",
   "language": "python",
   "name": "python2"
  },
  "language_info": {
   "codemirror_mode": {
    "name": "ipython",
    "version": 2
   },
   "file_extension": ".py",
   "mimetype": "text/x-python",
   "name": "python",
   "nbconvert_exporter": "python",
   "pygments_lexer": "ipython2",
   "version": "2.7.12"
  }
 },
 "nbformat": 4,
 "nbformat_minor": 0
}
