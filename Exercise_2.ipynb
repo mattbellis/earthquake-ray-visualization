{
 "cells": [
  {
   "cell_type": "markdown",
   "metadata": {},
   "source": [
    "# Exercise 2 - Many-layered Earth\n",
    "\n",
    "*Don't forget to hit * **Shift+Enter** * to run the code in any Cell.*"
   ]
  },
  {
   "cell_type": "markdown",
   "metadata": {},
   "source": [
    "**PLEASE ENTER YOUR NAME HERE***"
   ]
  },
  {
   "cell_type": "code",
   "execution_count": null,
   "metadata": {
    "collapsed": false
   },
   "outputs": [],
   "source": [
    "# First, import some additional libraries\n",
    "import numpy as np\n",
    "import matplotlib.pylab as plt\n",
    "%matplotlib notebook\n",
    "\n",
    "from eq_tools import *"
   ]
  },
  {
   "cell_type": "markdown",
   "metadata": {},
   "source": [
    "In the cell below, we define two variables: *radii* and *velocities*. \n",
    "\n",
    "These variables are *lists* and can hold multiple numbers. \n",
    "\n",
    "The values in *radii* represent the outer radius of each layer of this hypothetical planet (think crust, mantle, core, etc.). They are given in kilometers (km). \n",
    "\n",
    "The values in *velocities* represent the velocity that P-waves travel through that layer. They are given in kilometers per second (km/s).\n",
    "\n",
    "Right now, these values are all set to 0. Edit this so that the values are reflective of your answers for the 2-layer Earth.\n",
    "\n",
    "*Note that the radius is determined by the distance from the center of the Earth.*"
   ]
  },
  {
   "cell_type": "markdown",
   "metadata": {},
   "source": [
    "## <font color='red'>Activity!</font>\n",
    "\n",
    "Add more layers to *radii* and *velocities* to try to build a more realistic model of the Earth. See how close you can get it to match the model that is shown for comparison.\n",
    "\n",
    "Try to keep your velocities between 4 and 20 km/s. \n",
    "\n",
    "We've started you off by adding an additional layer...though it might not be the correct one!"
   ]
  },
  {
   "cell_type": "code",
   "execution_count": null,
   "metadata": {
    "collapsed": false
   },
   "outputs": [],
   "source": [
    "# Simple planet\n",
    "radii =      [6400.0, 4800.0, 2400.0]\n",
    "velocities = [14.0,    12.0,   15.0] "
   ]
  },
  {
   "cell_type": "markdown",
   "metadata": {},
   "source": [
    "You can see a plot of radius versus velocity if you run the following cell."
   ]
  },
  {
   "cell_type": "code",
   "execution_count": null,
   "metadata": {
    "collapsed": false
   },
   "outputs": [],
   "source": [
    "plot_velocities(radii,velocities)"
   ]
  },
  {
   "cell_type": "markdown",
   "metadata": {},
   "source": [
    "Run the cell below to produce an image of where the earthquake waves (drawn as rays) go. \n",
    "\n",
    "You will also see a plot of arrival time versus angular distance from the spot of the earthquake. \n",
    "\n",
    "You can edit the code below to change the number of earthquake rays drawn (*nrays*)."
   ]
  },
  {
   "cell_type": "code",
   "execution_count": null,
   "metadata": {
    "collapsed": false,
    "scrolled": false
   },
   "outputs": [],
   "source": [
    "make_earthquake(radii,velocities,nrays=50,real_earth=True)"
   ]
  },
  {
   "cell_type": "markdown",
   "metadata": {},
   "source": [
    "Once you've found a model of the Earth that you are satisfied with, answer the following questions. "
   ]
  },
  {
   "cell_type": "markdown",
   "metadata": {},
   "source": [
    "## Question 1\n",
    "\n",
    "How well does your model agree with the real Earth data? What could be done to improve your model?"
   ]
  },
  {
   "cell_type": "markdown",
   "metadata": {},
   "source": [
    "***Your answer here***"
   ]
  },
  {
   "cell_type": "markdown",
   "metadata": {
    "collapsed": true
   },
   "source": [
    "## Question 2\n",
    "\n",
    "How many layers does your Earth have?"
   ]
  },
  {
   "cell_type": "markdown",
   "metadata": {},
   "source": [
    "***Your answer here***"
   ]
  },
  {
   "cell_type": "markdown",
   "metadata": {},
   "source": [
    "## Question 3\n",
    "\n",
    "Compare your depth versus velocity plot with that from the real Earth?"
   ]
  },
  {
   "cell_type": "markdown",
   "metadata": {},
   "source": [
    "***Your answer here***"
   ]
  },
  {
   "cell_type": "markdown",
   "metadata": {},
   "source": [
    "## Question 4\n",
    "\n",
    "What is the depth of your core-mantle boundary? What is the velocity in your mantle? In your core?"
   ]
  },
  {
   "cell_type": "markdown",
   "metadata": {},
   "source": [
    "***Your answer here***"
   ]
  },
  {
   "cell_type": "markdown",
   "metadata": {},
   "source": [
    "## Question 5\n",
    "\n",
    "Do you think there are other models that can produce the same travel-time curve? If so, could you determine which model is the correct one and how would you do it?"
   ]
  },
  {
   "cell_type": "markdown",
   "metadata": {},
   "source": [
    "***Your answer here***"
   ]
  },
  {
   "cell_type": "markdown",
   "metadata": {},
   "source": [
    "## Question 6\n",
    "\n",
    "Imagine that you are asked to visit an 8th-grade science class to discuss what you have learned these two weeks about earthquakes and the Earth's interior. Write at least one paragraph explaining to those 8th-graders how we know what the interior of the Earth is like and what it is made of. "
   ]
  },
  {
   "cell_type": "markdown",
   "metadata": {},
   "source": [
    "***Your answer here***"
   ]
  }
 ],
 "metadata": {
  "kernelspec": {
   "display_name": "Python 2",
   "language": "python",
   "name": "python2"
  },
  "language_info": {
   "codemirror_mode": {
    "name": "ipython",
    "version": 2
   },
   "file_extension": ".py",
   "mimetype": "text/x-python",
   "name": "python",
   "nbconvert_exporter": "python",
   "pygments_lexer": "ipython2",
   "version": "2.7.12"
  }
 },
 "nbformat": 4,
 "nbformat_minor": 0
}
