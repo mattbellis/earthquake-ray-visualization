{
 "cells": [
  {
   "cell_type": "markdown",
   "metadata": {},
   "source": [
    "# Real Earth!\n",
    "\n",
    "*Don't forget to hit * **Shift+Enter** * to run the code in any Cell.*"
   ]
  },
  {
   "cell_type": "code",
   "execution_count": null,
   "metadata": {},
   "outputs": [],
   "source": [
    "# First, import some additional libraries\n",
    "\n",
    "import numpy as np\n",
    "import matplotlib.pylab as plt\n",
    "%matplotlib notebook\n",
    "\n",
    "from eq_tools import *"
   ]
  },
  {
   "cell_type": "markdown",
   "metadata": {},
   "source": [
    "In the cell below, we define two variables: *radii* and *velocities*. \n",
    "\n",
    "These variables are *lists* and can hold multiple numbers. \n",
    "\n",
    "The values in *radii* represent the outer radius of each layer of this hypothetical planet (think crust, mantle, core, etc.). They are given in kilometers (km). \n",
    "\n",
    "The values in *velocities* represent the velocity that P-waves travel through that layer. They are given in kilometers per second (km/s)."
   ]
  },
  {
   "cell_type": "code",
   "execution_count": null,
   "metadata": {},
   "outputs": [],
   "source": [
    "###### Realistic Earth\n",
    "radii,velocities = get_earth_data() "
   ]
  },
  {
   "cell_type": "markdown",
   "metadata": {},
   "source": [
    "You can see a plot of radius versus velocity if you run the following cell."
   ]
  },
  {
   "cell_type": "code",
   "execution_count": null,
   "metadata": {},
   "outputs": [],
   "source": [
    "plot_velocities(radii,velocities)"
   ]
  },
  {
   "cell_type": "markdown",
   "metadata": {},
   "source": [
    "Run the cell below to produce an image of where the earthquake waves (drawn as rays) go. \n",
    "\n",
    "You will also see a plot of arrival time versus angular distance from the spot of the earthquake. \n",
    "\n",
    "You can edit the code below to change the number of earthquake rays drawn (*nrays*).\n",
    "\n",
    "***If you are using the more accurate parameters from get_earth_data, this could take anywhere from 30 seconds to 2 minutes to run, depending on how many rays you draw.***"
   ]
  },
  {
   "cell_type": "code",
   "execution_count": null,
   "metadata": {
    "scrolled": false
   },
   "outputs": [],
   "source": [
    "make_earthquake(radii,velocities,nrays=50)"
   ]
  },
  {
   "cell_type": "code",
   "execution_count": null,
   "metadata": {
    "collapsed": true
   },
   "outputs": [],
   "source": []
  }
 ],
 "metadata": {
  "kernelspec": {
   "display_name": "Python 3",
   "language": "python",
   "name": "python3"
  },
  "language_info": {
   "codemirror_mode": {
    "name": "ipython",
    "version": 3
   },
   "file_extension": ".py",
   "mimetype": "text/x-python",
   "name": "python",
   "nbconvert_exporter": "python",
   "pygments_lexer": "ipython3",
   "version": "3.6.2"
  }
 },
 "nbformat": 4,
 "nbformat_minor": 1
}
